{
 "cells": [
  {
   "cell_type": "code",
   "execution_count": 1,
   "id": "76087bb2-11e9-4c6d-8db3-43deb424c005",
   "metadata": {},
   "outputs": [],
   "source": [
    "import sys\n",
    "sys.path.insert(1, '/afs/hep.wisc.edu/home/kkboone/software/ssi_corrections_des_y3_balrog/python')\n",
    "import numpy as np\n",
    "import fitsio\n",
    "import healpy as hp\n",
    "import Config\n",
    "import StellarConfig as strConfig"
   ]
  },
  {
   "cell_type": "code",
   "execution_count": 2,
   "id": "ba836f62-96b4-4b61-a366-3e913c51f4e8",
   "metadata": {},
   "outputs": [],
   "source": [
    "pixFile = strConfig.pixFile\n",
    "deepFiles = Config.deepFiles\n",
    "deepCols = Config.deepCols\n",
    "\n",
    "res = strConfig.res"
   ]
  },
  {
   "cell_type": "code",
   "execution_count": 3,
   "id": "cb054a00-c895-41dc-a2f5-e36f275dbbeb",
   "metadata": {},
   "outputs": [],
   "source": [
    "deepCols = np.append(deepCols, np.array(['BDF_MAG_G', 'BDF_MAG_R']))"
   ]
  },
  {
   "cell_type": "code",
   "execution_count": 35,
   "id": "0a4d2f9b-312f-4a50-aae1-def75b48c4fa",
   "metadata": {},
   "outputs": [],
   "source": [
    "# Read in valid pixels\n",
    "validPix = fitsio.read(pixFile)['PIXEL']\n",
    "\n",
    "# Read in deep field information\n",
    "deepRA = np.array([])\n",
    "deepDEC = np.array([])\n",
    "deepClass = np.array([])\n",
    "deepFlag = np.array([])\n",
    "deepFlagNir = np.array([])\n",
    "deepRmag = np.array([])\n",
    "deepGmag = np.array([])\n",
    "\n",
    "for deepFile in deepFiles:\n",
    "    deepData = fitsio.read(deepFile, columns = deepCols)\n",
    "\n",
    "    deepRA = np.append(deepRA, deepData['RA'])\n",
    "    deepDEC = np.append(deepDEC, deepData['DEC'])\n",
    "    deepClass = np.append(deepClass, deepData['KNN_CLASS'])\n",
    "    deepFlag = np.append(deepFlag, deepData['MASK_FLAGS'])\n",
    "    deepFlagNir = np.append(deepFlagNir, deepData['MASK_FLAGS_NIR'])\n",
    "    deepRmag = np.append(deepRmag, deepData['BDF_MAG_R'])\n",
    "    deepGmag = np.append(deepGmag, deepData['BDF_MAG_G'])\n",
    "    \n",
    "deepGR = deepGmag - deepRmag\n",
    "\n",
    "# Apply quality cuts and ambiguous class cuts to the deep fields.\n",
    "deepFlagCuts = np.where((deepFlag == 0) &\n",
    "                        (deepFlagNir == 0) &\n",
    "                        (deepRA < 120) &\n",
    "                        (deepClass > 0) &\n",
    "                        (deepClass <= 3) &\n",
    "                        (deepGR >= 0) &\n",
    "                        (deepGR <= 1) &\n",
    "                        (deepRmag >= 24.5) & \n",
    "                        (deepRmag <= 25))[0]\n",
    "\n",
    "deepRA = deepRA[deepFlagCuts]\n",
    "deepDEC = deepDEC[deepFlagCuts]\n",
    "deepClass = deepClass[deepFlagCuts]\n",
    "\n",
    "# No class objects with bands missing could present an issue so this is a warning.\n",
    "if len(np.where(deepClass == 3)[0]) != 0:\n",
    "    print('WARNING: Objects with no class are present in this deep field selection. ' + str(len(np.where(deepClass == 3)[0])) + ' object(s) out of ' + str(len(deepClass)) + ' have an ambiguous classification.')\n",
    "\n",
    "# Check which healpixels contain deep field objects to crop wide field objects immediately.\n",
    "deepPix = hp.ang2pix(res, deepRA, deepDEC, lonlat = True, nest = True)\n",
    "\n",
    "valPixCut = np.isin(deepPix, validPix)\n",
    "\n",
    "deepPix = deepPix[valPixCut]\n",
    "deepClass = deepClass[valPixCut]"
   ]
  },
  {
   "cell_type": "code",
   "execution_count": 36,
   "id": "e5e9c465-7b00-41ae-bd64-22657063c4fd",
   "metadata": {},
   "outputs": [],
   "source": [
    "ratioStars = len(np.where(deepClass == 2)[0]) / len(np.where((deepClass >= 1) & (deepClass <= 2))[0])\n",
    "ratioGalas = 1 - ratioStars"
   ]
  },
  {
   "cell_type": "code",
   "execution_count": 37,
   "id": "a37f9c6d-4f24-4750-ab9b-4339e532f185",
   "metadata": {},
   "outputs": [],
   "source": [
    "starsPerPix = ratioStars * (len(deepPix) / len(np.unique(deepPix)))\n",
    "galasPerPix = ratioGalas * (len(deepPix) / len(np.unique(deepPix)))"
   ]
  },
  {
   "cell_type": "code",
   "execution_count": 38,
   "id": "c4506a12-a55e-42b8-bc7c-af2f09c3835d",
   "metadata": {},
   "outputs": [
    {
     "data": {
      "text/plain": [
       "0.006068646961991106"
      ]
     },
     "execution_count": 38,
     "metadata": {},
     "output_type": "execute_result"
    }
   ],
   "source": [
    "ratioStars"
   ]
  },
  {
   "cell_type": "code",
   "execution_count": 39,
   "id": "18bbdc82-97ae-473f-ba2d-4cb4e7a82460",
   "metadata": {},
   "outputs": [],
   "source": [
    "starsPer512 = starsPerPix * 64\n",
    "galasPer512 = galasPerPix * 64"
   ]
  },
  {
   "cell_type": "code",
   "execution_count": 47,
   "id": "006b40e7-d0ac-492a-9f53-f42b9ed28ee3",
   "metadata": {},
   "outputs": [
    {
     "data": {
      "text/plain": [
       "1.8229482990582355"
      ]
     },
     "execution_count": 47,
     "metadata": {},
     "output_type": "execute_result"
    }
   ],
   "source": [
    "starsPer512"
   ]
  },
  {
   "cell_type": "code",
   "execution_count": 48,
   "id": "2caddf3f-76d4-48bd-953f-8bddc2fad06b",
   "metadata": {},
   "outputs": [
    {
     "data": {
      "text/plain": [
       "298.5649817413031"
      ]
     },
     "execution_count": 48,
     "metadata": {},
     "output_type": "execute_result"
    }
   ],
   "source": [
    "galasPer512"
   ]
  },
  {
   "cell_type": "code",
   "execution_count": null,
   "id": "8885c192-6a89-416b-9375-b2d8e4a80c1e",
   "metadata": {},
   "outputs": [],
   "source": []
  }
 ],
 "metadata": {
  "kernelspec": {
   "display_name": "Python 3 (ipykernel)",
   "language": "python",
   "name": "python3"
  },
  "language_info": {
   "codemirror_mode": {
    "name": "ipython",
    "version": 3
   },
   "file_extension": ".py",
   "mimetype": "text/x-python",
   "name": "python",
   "nbconvert_exporter": "python",
   "pygments_lexer": "ipython3",
   "version": "3.9.12"
  }
 },
 "nbformat": 4,
 "nbformat_minor": 5
}
